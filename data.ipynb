{
 "cells": [
  {
   "cell_type": "code",
   "execution_count": null,
   "metadata": {},
   "outputs": [],
   "source": [
    "import librosa\n",
    "import matplotlib.pyplot as plt\n",
    "import numpy as np\n",
    "import os\n",
    "import pylab\n",
    "\n",
    "from IPython.display import Audio\n",
    "from tqdm import tqdm"
   ]
  },
  {
   "cell_type": "code",
   "execution_count": null,
   "metadata": {},
   "outputs": [],
   "source": [
    "path = './ljspeech/wavs/LJ001-0001.wav'\n",
    "y, sr = librosa.load(path, sr=16000)\n",
    "S = librosa.feature.melspectrogram(y=y, sr=sr)\n",
    "S.shape"
   ]
  },
  {
   "cell_type": "code",
   "execution_count": null,
   "metadata": {},
   "outputs": [],
   "source": [
    "test = np.load('ljspeech/wavs/LJ001-0001.wav.spec.npy')\n",
    "test_audio = librosa.feature.inverse.mel_to_audio(test)\n",
    "\n",
    "test.shape"
   ]
  },
  {
   "cell_type": "code",
   "execution_count": null,
   "metadata": {},
   "outputs": [],
   "source": [
    "Audio(data=test_audio, rate=sr)"
   ]
  },
  {
   "cell_type": "code",
   "execution_count": null,
   "metadata": {},
   "outputs": [],
   "source": [
    "S.shape"
   ]
  },
  {
   "cell_type": "code",
   "execution_count": null,
   "metadata": {},
   "outputs": [],
   "source": [
    "pylab.axis('off') # no axis\n",
    "pylab.axes([0., 0., 1., 1.], frameon=False, xticks=[], yticks=[]) # Remove the white edge\n",
    "librosa.display.specshow(librosa.power_to_db(test, ref=np.max))"
   ]
  },
  {
   "cell_type": "code",
   "execution_count": null,
   "metadata": {},
   "outputs": [],
   "source": [
    "plt.imshow(test)\n",
    "plt.show()"
   ]
  },
  {
   "cell_type": "code",
   "execution_count": null,
   "metadata": {},
   "outputs": [],
   "source": [
    "Audio(data=y, rate=sr)"
   ]
  },
  {
   "cell_type": "code",
   "execution_count": null,
   "metadata": {},
   "outputs": [],
   "source": [
    "masked_spectrogram = test\n",
    "\n",
    "idx = np.random.randint(0, high=(400 - 10 - 1))\n",
    "\n",
    "masked_spectrogram[:, idx:idx+10] = 0\n",
    "plt.imshow(masked_spectrogram)\n",
    "plt.show()"
   ]
  },
  {
   "cell_type": "code",
   "execution_count": null,
   "metadata": {},
   "outputs": [],
   "source": [
    "# Create masked spectrograms\n",
    "\n",
    "num_masks = 1\n",
    "mask_thickness = 10\n",
    "\n",
    "original_dir = 'vae/spectrograms'\n",
    "masked_dir = 'vae/spectrograms_masked'\n",
    "file_names = os.listdir(original_dir)\n",
    "\n",
    "\n",
    "for i in range(len(file_names)):\n",
    "    original_path = os.path.join(original_dir, file_names[i])\n",
    "    masked_path = os.path.join(masked_dir, file_names[i])\n",
    "\n",
    "    spectrogram = np.load(original_path)\n",
    "    num_rows, num_columns = spectrogram.shape\n",
    "\n",
    "    masked_spectrogram = spectrogram\n",
    "    for _ in range(num_masks):\n",
    "        mask_column_idx = np.random.randint(0, high=(num_columns - mask_thickness - 1))\n",
    "        masked_spectrogram[:, mask_column_idx:mask_column_idx+mask_thickness] = 0\n",
    "\n",
    "    np.save(masked_path, masked_spectrogram)"
   ]
  },
  {
   "cell_type": "code",
   "execution_count": null,
   "metadata": {},
   "outputs": [],
   "source": [
    "masked_names = os.listdir(masked_dir)"
   ]
  }
 ],
 "metadata": {
  "kernelspec": {
   "display_name": "cs236",
   "language": "python",
   "name": "python3"
  },
  "language_info": {
   "codemirror_mode": {
    "name": "ipython",
    "version": 3
   },
   "file_extension": ".py",
   "mimetype": "text/x-python",
   "name": "python",
   "nbconvert_exporter": "python",
   "pygments_lexer": "ipython3",
   "version": "3.10.13"
  }
 },
 "nbformat": 4,
 "nbformat_minor": 2
}
